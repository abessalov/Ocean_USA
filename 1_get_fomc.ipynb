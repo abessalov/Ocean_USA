{
 "cells": [
  {
   "cell_type": "code",
   "execution_count": 1,
   "id": "d790536f-4836-49d2-99ae-62903a09605c",
   "metadata": {},
   "outputs": [
    {
     "data": {
      "text/html": [
       "<style>.container { width:80% !important; }</style>"
      ],
      "text/plain": [
       "<IPython.core.display.HTML object>"
      ]
     },
     "metadata": {},
     "output_type": "display_data"
    }
   ],
   "source": [
    "%run _startup.ipynb"
   ]
  },
  {
   "cell_type": "code",
   "execution_count": 2,
   "id": "af34df3e-61b6-40b5-874e-65a5e83dc2ae",
   "metadata": {},
   "outputs": [],
   "source": [
    "import requests\n",
    "from lxml import etree\n",
    "from lxml.html import fromstring, tostring\n",
    "from bs4 import BeautifulSoup"
   ]
  },
  {
   "cell_type": "markdown",
   "id": "859fae8d-f042-4b8a-83cd-828a560a9f2c",
   "metadata": {},
   "source": [
    "### 1. Parse all FOMC meetings"
   ]
  },
  {
   "cell_type": "code",
   "execution_count": 3,
   "id": "1c9e9065-9e84-4bf7-a2c0-6bbf07e5d45c",
   "metadata": {},
   "outputs": [],
   "source": [
    "# Parse all meetings for the last 5 years\n",
    "url = f'https://www.federalreserve.gov/monetarypolicy/fomccalendars.htm'\n",
    "resp = requests.get(url)\n",
    "\n",
    "soup = BeautifulSoup(resp.text, \"html.parser\")\n",
    "cards = soup.findAll('div', class_='col-xs-12 col-md-4 col-lg-2')\n",
    "\n",
    "list0 = list()\n",
    "list1 = list()\n",
    "for card in cards:\n",
    "    a = ''.join([str(a1) for a1 in card.contents])\n",
    "    b = re.findall('href=\"/newsevents.+a.htm', a)\n",
    "    if len(b) > 1:\n",
    "        print(b)\n",
    "    if len(b) == 0:\n",
    "        continue\n",
    "    list0.append(a)\n",
    "    list1.append(b[0][-13:-5])\n",
    "\n",
    "df1 = pd.DataFrame({'dt1': list1})"
   ]
  },
  {
   "cell_type": "code",
   "execution_count": 4,
   "id": "2c3aac4a-623d-4b37-98c1-a0abd6fa6929",
   "metadata": {},
   "outputs": [
    {
     "name": "stderr",
     "output_type": "stream",
     "text": [
      "100%|██████████████████████████████████████████████████████████████████████████████████| 38/38 [03:04<00:00,  4.86s/it]\n"
     ]
    },
    {
     "name": "stdout",
     "output_type": "stream",
     "text": [
      "p>\n",
      "\n"
     ]
    }
   ],
   "source": [
    "# Parse historical meetings\n",
    "list_resp = list()\n",
    "for year in tqdm(range(2018,1980,-1)):\n",
    "    url = f'https://www.federalreserve.gov/monetarypolicy/fomchistorical{year}.htm'\n",
    "    resp = requests.get(url)\n",
    "    list_resp.append(resp)\n",
    "    time.sleep(3)\n",
    "# list_resp\n",
    "\n",
    "list2 = list()\n",
    "for resp in list_resp:\n",
    "    soup = BeautifulSoup(resp.text, \"html.parser\")\n",
    "    cards = soup.findAll('div', class_='col-xs-12 col-md-6')\n",
    "    \n",
    "    list0 = list()\n",
    "    list1 = list()\n",
    "    for card in cards:\n",
    "        a = ''.join([str(a1) for a1 in card.contents])\n",
    "        b = a.split('.pdf')[0].split('/')[-1]\n",
    "        c = re.findall('[0-9]+',b)\n",
    "        if len(c) == 0:\n",
    "            print(b)\n",
    "            continue\n",
    "        list1.append(c[0])\n",
    "    list2+=list1\n",
    "\n",
    "df2 = pd.DataFrame({'dt1': list2})"
   ]
  },
  {
   "cell_type": "code",
   "execution_count": 8,
   "id": "124edb64-b970-40a3-8358-4affd0eb0371",
   "metadata": {
    "scrolled": true
   },
   "outputs": [
    {
     "name": "stdout",
     "output_type": "stream",
     "text": [
      "(370, 3)\n"
     ]
    },
    {
     "data": {
      "text/html": [
       "<div>\n",
       "<style scoped>\n",
       "    .dataframe tbody tr th:only-of-type {\n",
       "        vertical-align: middle;\n",
       "    }\n",
       "\n",
       "    .dataframe tbody tr th {\n",
       "        vertical-align: top;\n",
       "    }\n",
       "\n",
       "    .dataframe thead th {\n",
       "        text-align: right;\n",
       "    }\n",
       "</style>\n",
       "<table border=\"1\" class=\"dataframe\">\n",
       "  <thead>\n",
       "    <tr style=\"text-align: right;\">\n",
       "      <th></th>\n",
       "      <th>dt_month</th>\n",
       "      <th>cnt_meetings</th>\n",
       "      <th>meetings</th>\n",
       "    </tr>\n",
       "  </thead>\n",
       "  <tbody>\n",
       "    <tr>\n",
       "      <th>0</th>\n",
       "      <td>1981-02-01</td>\n",
       "      <td>2</td>\n",
       "      <td>19810202,19810203</td>\n",
       "    </tr>\n",
       "    <tr>\n",
       "      <th>1</th>\n",
       "      <td>1981-03-01</td>\n",
       "      <td>1</td>\n",
       "      <td>19810331</td>\n",
       "    </tr>\n",
       "    <tr>\n",
       "      <th>2</th>\n",
       "      <td>1981-05-01</td>\n",
       "      <td>1</td>\n",
       "      <td>19810518</td>\n",
       "    </tr>\n",
       "  </tbody>\n",
       "</table>\n",
       "</div>"
      ],
      "text/plain": [
       "    dt_month  cnt_meetings           meetings\n",
       "0 1981-02-01             2  19810202,19810203\n",
       "1 1981-03-01             1           19810331\n",
       "2 1981-05-01             1           19810518"
      ]
     },
     "execution_count": 8,
     "metadata": {},
     "output_type": "execute_result"
    }
   ],
   "source": [
    "# merge and aggregate\n",
    "df = pd.concat([df1, df2])\n",
    "df.drop_duplicates(inplace = True)\n",
    "\n",
    "df['dt_month'] = pd.to_datetime(df['dt1'].str[:6]+'01')\n",
    "df = df.groupby('dt_month').dt1.agg([len,lambda x: ','.join(x)]).reset_index()\n",
    "df.columns = ['dt_month','cnt_meetings','meetings']\n",
    "\n",
    "df.to_pickle('data/df_meetings.pkl')\n",
    "\n",
    "print(df.shape)\n",
    "df[:3]"
   ]
  },
  {
   "cell_type": "markdown",
   "id": "7047ebdc-e98c-498a-a8dd-657481a0c2d5",
   "metadata": {},
   "source": [
    "### 2. Parse statements from the last FOMC meetings"
   ]
  },
  {
   "cell_type": "code",
   "execution_count": 11,
   "id": "a40e9d0e-540f-44fc-92cc-f4a725ac6590",
   "metadata": {},
   "outputs": [],
   "source": [
    "# Parse all meetings for the last 5 years\n",
    "url = f'https://www.federalreserve.gov/monetarypolicy/fomccalendars.htm'\n",
    "resp = requests.get(url)\n",
    "\n",
    "soup = BeautifulSoup(resp.text, \"html.parser\")\n",
    "cards = soup.findAll('div', class_='col-xs-12 col-md-4 col-lg-2')\n",
    "\n",
    "list0 = list()\n",
    "list1 = list()\n",
    "\n",
    "for card in cards:\n",
    "    a = ''.join([str(a1) for a1 in card.contents])\n",
    "    b = re.findall('href=\"/newsevents.+a.htm', a)\n",
    "    if len(b) > 1:\n",
    "        print(b)\n",
    "    if len(b) == 0:\n",
    "        continue\n",
    "    list0.append(a)\n",
    "    list1.append(b[0][6:])\n",
    "\n",
    "df = pd.DataFrame({\n",
    "    'card': list0, \n",
    "    'url': list1\n",
    "})\n",
    "df['dt1'] = pd.to_datetime(df['url'].str[34:42])"
   ]
  },
  {
   "cell_type": "code",
   "execution_count": 12,
   "id": "61d98d77-c5b1-41d8-9402-8cb8c17a61c3",
   "metadata": {},
   "outputs": [
    {
     "data": {
      "text/plain": [
       "dt1\n",
       "2019-12-31     9\n",
       "2020-12-31    12\n",
       "2021-12-31     8\n",
       "2022-12-31     8\n",
       "2023-12-31     8\n",
       "2024-12-31     7\n",
       "Freq: A-DEC, dtype: int64"
      ]
     },
     "execution_count": 12,
     "metadata": {},
     "output_type": "execute_result"
    }
   ],
   "source": [
    "# Number of statements per year:\n",
    "df.groupby('dt1').size().resample('Y').sum().sort_index()"
   ]
  },
  {
   "cell_type": "code",
   "execution_count": 14,
   "id": "1ed8ffca-80c9-4cc0-b0fa-5c59e17f517d",
   "metadata": {},
   "outputs": [
    {
     "name": "stderr",
     "output_type": "stream",
     "text": [
      "100%|██████████████████████████████████████████████████████████████████████████████████| 52/52 [05:56<00:00,  6.85s/it]\n"
     ]
    }
   ],
   "source": [
    "# Parse statements\n",
    "url1 = 'https://www.federalreserve.gov'\n",
    "list_resp = list()\n",
    "for url2 in tqdm(df['url']):\n",
    "    url = url1 + url2\n",
    "    resp = requests.get(url)\n",
    "    list_resp.append(resp)\n",
    "    time.sleep(5)\n",
    "df['resp'] = list_resp"
   ]
  },
  {
   "cell_type": "code",
   "execution_count": 15,
   "id": "016470fa-db39-4b54-9f7f-f54b8f040b52",
   "metadata": {},
   "outputs": [
    {
     "name": "stdout",
     "output_type": "stream",
     "text": [
      "(52, 5)\n"
     ]
    },
    {
     "data": {
      "text/html": [
       "<div>\n",
       "<style scoped>\n",
       "    .dataframe tbody tr th:only-of-type {\n",
       "        vertical-align: middle;\n",
       "    }\n",
       "\n",
       "    .dataframe tbody tr th {\n",
       "        vertical-align: top;\n",
       "    }\n",
       "\n",
       "    .dataframe thead th {\n",
       "        text-align: right;\n",
       "    }\n",
       "</style>\n",
       "<table border=\"1\" class=\"dataframe\">\n",
       "  <thead>\n",
       "    <tr style=\"text-align: right;\">\n",
       "      <th></th>\n",
       "      <th>card</th>\n",
       "      <th>url</th>\n",
       "      <th>dt1</th>\n",
       "      <th>resp</th>\n",
       "      <th>txt</th>\n",
       "    </tr>\n",
       "  </thead>\n",
       "  <tbody>\n",
       "    <tr>\n",
       "      <th>0</th>\n",
       "      <td>\\n&lt;strong&gt;Statement:&lt;/strong&gt;&lt;br/&gt;\\n&lt;a href=\"/...</td>\n",
       "      <td>/newsevents/pressreleases/monetary20190130a.htm</td>\n",
       "      <td>2019-01-30</td>\n",
       "      <td>&lt;Response [200]&gt;</td>\n",
       "      <td>\\nInformation received since the Federal Open ...</td>\n",
       "    </tr>\n",
       "    <tr>\n",
       "      <th>1</th>\n",
       "      <td>\\n&lt;strong&gt;Statement:&lt;/strong&gt;&lt;br/&gt;\\n&lt;a href=\"/...</td>\n",
       "      <td>/newsevents/pressreleases/monetary20190320a.htm</td>\n",
       "      <td>2019-03-20</td>\n",
       "      <td>&lt;Response [200]&gt;</td>\n",
       "      <td>\\nInformation received since the Federal Open ...</td>\n",
       "    </tr>\n",
       "    <tr>\n",
       "      <th>2</th>\n",
       "      <td>\\n&lt;strong&gt;Statement:&lt;/strong&gt;&lt;br/&gt;\\n&lt;a href=\"/...</td>\n",
       "      <td>/newsevents/pressreleases/monetary20190501a.htm</td>\n",
       "      <td>2019-05-01</td>\n",
       "      <td>&lt;Response [200]&gt;</td>\n",
       "      <td>\\nInformation received since the Federal Open ...</td>\n",
       "    </tr>\n",
       "  </tbody>\n",
       "</table>\n",
       "</div>"
      ],
      "text/plain": [
       "                                                card  \\\n",
       "0  \\n<strong>Statement:</strong><br/>\\n<a href=\"/...   \n",
       "1  \\n<strong>Statement:</strong><br/>\\n<a href=\"/...   \n",
       "2  \\n<strong>Statement:</strong><br/>\\n<a href=\"/...   \n",
       "\n",
       "                                               url        dt1  \\\n",
       "0  /newsevents/pressreleases/monetary20190130a.htm 2019-01-30   \n",
       "1  /newsevents/pressreleases/monetary20190320a.htm 2019-03-20   \n",
       "2  /newsevents/pressreleases/monetary20190501a.htm 2019-05-01   \n",
       "\n",
       "               resp                                                txt  \n",
       "0  <Response [200]>  \\nInformation received since the Federal Open ...  \n",
       "1  <Response [200]>  \\nInformation received since the Federal Open ...  \n",
       "2  <Response [200]>  \\nInformation received since the Federal Open ...  "
      ]
     },
     "execution_count": 15,
     "metadata": {},
     "output_type": "execute_result"
    }
   ],
   "source": [
    "# Get text from statements\n",
    "list_txt = list()\n",
    "for resp in df['resp']:\n",
    "    soup = BeautifulSoup(resp.text, \"html.parser\")\n",
    "    cards = soup.findAll('div', class_='col-xs-12 col-sm-8 col-md-8')\n",
    "    if len(cards) != 1:\n",
    "        print(cards)   \n",
    "    a = ''.join([str(a1) for a1 in cards[0].get_text()])\n",
    "    list_txt.append(a)\n",
    "df['txt'] = list_txt\n",
    "df = df.sort_values('dt1').reset_index(drop = True)\n",
    "\n",
    "df.to_pickle('data/df_statements.pkl')\n",
    "\n",
    "print(df.shape)\n",
    "df[:3]"
   ]
  }
 ],
 "metadata": {
  "kernelspec": {
   "display_name": "Python 3 (ipykernel)",
   "language": "python",
   "name": "python3"
  },
  "language_info": {
   "codemirror_mode": {
    "name": "ipython",
    "version": 3
   },
   "file_extension": ".py",
   "mimetype": "text/x-python",
   "name": "python",
   "nbconvert_exporter": "python",
   "pygments_lexer": "ipython3",
   "version": "3.11.5"
  }
 },
 "nbformat": 4,
 "nbformat_minor": 5
}
