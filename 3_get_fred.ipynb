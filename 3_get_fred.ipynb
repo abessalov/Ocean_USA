{
 "cells": [
  {
   "cell_type": "code",
   "execution_count": 1,
   "id": "30eb3638-ba78-47e5-b98d-0672454a4e04",
   "metadata": {},
   "outputs": [
    {
     "data": {
      "text/html": [
       "<style>.container { width:80% !important; }</style>"
      ],
      "text/plain": [
       "<IPython.core.display.HTML object>"
      ]
     },
     "metadata": {},
     "output_type": "display_data"
    }
   ],
   "source": [
    "%run _startup.ipynb"
   ]
  },
  {
   "cell_type": "code",
   "execution_count": 2,
   "id": "4d8df795-8e69-496c-99e8-2c7a43fe3a58",
   "metadata": {},
   "outputs": [],
   "source": [
    "import requests\n",
    "from lxml import etree\n",
    "from lxml.html import fromstring, tostring\n",
    "from bs4 import BeautifulSoup"
   ]
  },
  {
   "cell_type": "code",
   "execution_count": 3,
   "id": "274f2ccb-5d9d-46d9-bd75-d395e44c56f5",
   "metadata": {},
   "outputs": [
    {
     "data": {
      "text/plain": [
       "True"
      ]
     },
     "execution_count": 3,
     "metadata": {},
     "output_type": "execute_result"
    }
   ],
   "source": [
    "from dotenv import load_dotenv\n",
    "load_dotenv()"
   ]
  },
  {
   "cell_type": "code",
   "execution_count": 4,
   "id": "118e18d0-a668-490e-a848-d2f813fad55c",
   "metadata": {},
   "outputs": [],
   "source": [
    "# Function to get FRED data\n",
    "def get_fred(id1):\n",
    "    params = {\n",
    "        'file_type': 'json',\n",
    "        'api_key': os.getenv('FRED_API_KEY'),\n",
    "        'series_id': id1,\n",
    "        # 'observation_start': '2023-12-02',\n",
    "        # 'observation_end': '2024-12-02',\n",
    "    }\n",
    "    pre = 'series/observations?'  # series/observations series\n",
    "    post = '&'.join([f'{k}={v}' for k,v in params.items()])\n",
    "    url = f'https://api.stlouisfed.org/fred/{pre}{post}'\n",
    "    resp = requests.get(url)\n",
    "    df = pd.DataFrame(json.loads(resp.text)['observations'])\n",
    "    return df[['date','value']] "
   ]
  },
  {
   "cell_type": "markdown",
   "id": "8550ad5f-1b97-4100-8ad7-022060b990d6",
   "metadata": {},
   "source": [
    "### 1. Collect Federal Funds Target Rates"
   ]
  },
  {
   "cell_type": "code",
   "execution_count": 5,
   "id": "c19ab562-7ad2-4a3e-9ec4-03d0eedda227",
   "metadata": {},
   "outputs": [
    {
     "name": "stdout",
     "output_type": "stream",
     "text": [
      "(155, 5)\n"
     ]
    },
    {
     "data": {
      "text/html": [
       "<div>\n",
       "<style scoped>\n",
       "    .dataframe tbody tr th:only-of-type {\n",
       "        vertical-align: middle;\n",
       "    }\n",
       "\n",
       "    .dataframe tbody tr th {\n",
       "        vertical-align: top;\n",
       "    }\n",
       "\n",
       "    .dataframe thead th {\n",
       "        text-align: right;\n",
       "    }\n",
       "</style>\n",
       "<table border=\"1\" class=\"dataframe\">\n",
       "  <thead>\n",
       "    <tr style=\"text-align: right;\">\n",
       "      <th></th>\n",
       "      <th>dt_month</th>\n",
       "      <th>dt1</th>\n",
       "      <th>DFEDTAR</th>\n",
       "      <th>DFEDTAR_diff</th>\n",
       "      <th>cnt_change</th>\n",
       "    </tr>\n",
       "  </thead>\n",
       "  <tbody>\n",
       "    <tr>\n",
       "      <th>0</th>\n",
       "      <td>1982-09-01</td>\n",
       "      <td>1982-09-27</td>\n",
       "      <td>10.25</td>\n",
       "      <td>0.00</td>\n",
       "      <td>1</td>\n",
       "    </tr>\n",
       "    <tr>\n",
       "      <th>1</th>\n",
       "      <td>1982-10-01</td>\n",
       "      <td>1982-10-07</td>\n",
       "      <td>9.50</td>\n",
       "      <td>-0.75</td>\n",
       "      <td>2</td>\n",
       "    </tr>\n",
       "    <tr>\n",
       "      <th>2</th>\n",
       "      <td>1982-11-01</td>\n",
       "      <td>1982-11-19</td>\n",
       "      <td>9.00</td>\n",
       "      <td>-0.50</td>\n",
       "      <td>1</td>\n",
       "    </tr>\n",
       "  </tbody>\n",
       "</table>\n",
       "</div>"
      ],
      "text/plain": [
       "    dt_month        dt1  DFEDTAR  DFEDTAR_diff  cnt_change\n",
       "0 1982-09-01 1982-09-27    10.25          0.00           1\n",
       "1 1982-10-01 1982-10-07     9.50         -0.75           2\n",
       "2 1982-11-01 1982-11-19     9.00         -0.50           1"
      ]
     },
     "execution_count": 5,
     "metadata": {},
     "output_type": "execute_result"
    }
   ],
   "source": [
    "# get data\n",
    "df1 = get_fred('DFEDTAR')\n",
    "df2 = get_fred('DFEDTARU')\n",
    "\n",
    "# merge\n",
    "df = pd.concat([df1,df2]).rename(columns = {'value': 'DFEDTAR'})\n",
    "feat1 = 'DFEDTAR'\n",
    "df[feat1] = df[feat1].astype(float)\n",
    "df[f'{feat1}_diff'] = df[feat1].diff()\n",
    "df['dt1'] = pd.to_datetime(df['date'])\n",
    "df['dt_month'] = pd.to_datetime(df['dt1'].astype(str).str[:7])\n",
    "\n",
    "# took only rows where rate changes \n",
    "f1 = df[f'{feat1}_diff'] != 0\n",
    "df = df[f1].groupby(['dt_month']).agg({\n",
    "    'dt1': lambda x: x.iloc[-1],\n",
    "    'DFEDTAR': lambda x: x.iloc[-1],\n",
    "    'DFEDTAR_diff': [sum, len]\n",
    "})\n",
    "df.columns = ['dt1','DFEDTAR','DFEDTAR_diff','cnt_change']\n",
    "df.reset_index(inplace = True)\n",
    "\n",
    "df.to_pickle('data/df_target.pkl')\n",
    "\n",
    "print(df.shape)\n",
    "df[:3]"
   ]
  },
  {
   "cell_type": "markdown",
   "id": "c528b9d1-1c27-4e5b-9382-1ab7d9a83269",
   "metadata": {},
   "source": [
    "### 2. Get main indicators"
   ]
  },
  {
   "cell_type": "code",
   "execution_count": 6,
   "id": "0cbabe35-9e68-4bc7-9661-7868d7bca99f",
   "metadata": {},
   "outputs": [],
   "source": [
    "dict_feats = {\n",
    " 'Economic Activity': 'GDP GDPC1 EXPGS PNFI INDPRO CFNAI',\n",
    " 'Financial Conditions': 'TOTBKCR DPSACBW027SBOG STLFSI4 NFCI',\n",
    " 'Inflation': 'CPILFESL CPIAUCSL PCE PCEPI PCEPILFE MICH',\n",
    " 'Labor Market Conditions': 'PAYEMS UNRATE EMRATIO',\n",
    " 'Monetary Policy Actions': 'WSECOUT'\n",
    "}\n",
    "\n",
    "dict_reg = {\n",
    " 'Lag monthly': 'INDPRO CFNAI PCE PCEPI PCEPILFE MICH',\n",
    " 'Monthly': 'CPILFESL CPIAUCSL PAYEMS UNRATE EMRATIO',\n",
    " 'Quarterly': 'GDP GDPC1 EXPGS PNFI',\n",
    " 'Weekly': 'TOTBKCR DPSACBW027SBOG STLFSI4 NFCI WSECOUT'\n",
    "}\n",
    "\n",
    "dict_post = {\n",
    " 'Percent change 12': 'GDP GDPC1 EXPGS PNFI TOTBKCR DPSACBW027SBOG CPILFESL CPIAUCSL PCE PCEPI PCEPILFE PAYEMS WSECOUT'    \n",
    "}"
   ]
  },
  {
   "cell_type": "code",
   "execution_count": 12,
   "id": "7924f79d-ff6d-4d0f-9eb1-d626fb14227e",
   "metadata": {},
   "outputs": [
    {
     "name": "stdout",
     "output_type": "stream",
     "text": [
      "(538, 1)\n"
     ]
    },
    {
     "data": {
      "text/html": [
       "<div>\n",
       "<style scoped>\n",
       "    .dataframe tbody tr th:only-of-type {\n",
       "        vertical-align: middle;\n",
       "    }\n",
       "\n",
       "    .dataframe tbody tr th {\n",
       "        vertical-align: top;\n",
       "    }\n",
       "\n",
       "    .dataframe thead th {\n",
       "        text-align: right;\n",
       "    }\n",
       "</style>\n",
       "<table border=\"1\" class=\"dataframe\">\n",
       "  <thead>\n",
       "    <tr style=\"text-align: right;\">\n",
       "      <th></th>\n",
       "      <th>dt1</th>\n",
       "    </tr>\n",
       "  </thead>\n",
       "  <tbody>\n",
       "    <tr>\n",
       "      <th>0</th>\n",
       "      <td>1980-02-01</td>\n",
       "    </tr>\n",
       "    <tr>\n",
       "      <th>1</th>\n",
       "      <td>1980-03-01</td>\n",
       "    </tr>\n",
       "    <tr>\n",
       "      <th>2</th>\n",
       "      <td>1980-04-01</td>\n",
       "    </tr>\n",
       "  </tbody>\n",
       "</table>\n",
       "</div>"
      ],
      "text/plain": [
       "         dt1\n",
       "0 1980-02-01\n",
       "1 1980-03-01\n",
       "2 1980-04-01"
      ]
     },
     "execution_count": 12,
     "metadata": {},
     "output_type": "execute_result"
    }
   ],
   "source": [
    "# create initial dataframe with dates\n",
    "df = get_fred('UNRATE')\n",
    "df['dt1'] = pd.to_datetime(df['date'])\n",
    "del df['date']\n",
    "del df['value']\n",
    "df = df[df.dt1 > '1980-01-01'].reset_index(drop = True)\n",
    "print(df.shape)\n",
    "df[:3] "
   ]
  },
  {
   "cell_type": "code",
   "execution_count": 13,
   "id": "8c6d99b6-53d9-43e1-b121-39d00e147b10",
   "metadata": {},
   "outputs": [
    {
     "name": "stderr",
     "output_type": "stream",
     "text": [
      "100%|████████████████████████████████████████████████████████████████████████████████████| 5/5 [02:00<00:00, 24.09s/it]\n"
     ]
    }
   ],
   "source": [
    "# parse all indexes\n",
    "for k,v in tqdm(dict_feats.items()):\n",
    "    list_ids = v.split(' ')\n",
    "    for i,id1 in enumerate(list_ids):\n",
    "        try:\n",
    "            df1 = get_fred(id1)\n",
    "            \n",
    "            # value conversion\n",
    "            df1 = df1[df1['value'] != '.'].rename(columns = {'value': id1})\n",
    "            df1[id1] = df1[id1].astype(float)\n",
    "            \n",
    "            # dates for weekly data\n",
    "            if id1 in dict_reg['Weekly'].split(' '):\n",
    "                df1['dt1'] = pd.to_datetime(df1['date'].astype(str).str[:7])\n",
    "                df1 = df1.groupby('dt1')[id1].mean().reset_index()\n",
    "            \n",
    "            # for monthly and quarterly\n",
    "            else:\n",
    "                df1['dt1'] = pd.to_datetime(df1['date'])\n",
    "                del df1['date']\n",
    "\n",
    "            # for quarterly we need to use shift of 3 month\n",
    "            if id1 in dict_reg['Quarterly'].split(' '):\n",
    "                df1['dt1'] = df1['dt1'].map(lambda x: x + relativedelta(months = 3))\n",
    "                \n",
    "            # for monthly with lag wee need to shift 1 months since we still don't have fresh data\n",
    "            if id1 in dict_reg['Lag monthly'].split(' '):\n",
    "                df1['dt1'] = df1['dt1'].map(lambda x: x + relativedelta(months = 1))\n",
    "            \n",
    "            # merge with previous data\n",
    "            df = df.merge(df1, how = 'left')\n",
    "            \n",
    "            time.sleep(5)\n",
    "        except Exception as e:\n",
    "            print(id1, e)\n",
    "\n",
    "for feat in list_quarterly.split(' '):\n",
    "    df[feat] = df[feat].ffill()"
   ]
  },
  {
   "cell_type": "code",
   "execution_count": 14,
   "id": "4b820a78-2787-4bb0-b882-96073dd214a5",
   "metadata": {},
   "outputs": [
    {
     "name": "stdout",
     "output_type": "stream",
     "text": [
      "(538, 21)\n"
     ]
    },
    {
     "data": {
      "text/html": [
       "<div>\n",
       "<style scoped>\n",
       "    .dataframe tbody tr th:only-of-type {\n",
       "        vertical-align: middle;\n",
       "    }\n",
       "\n",
       "    .dataframe tbody tr th {\n",
       "        vertical-align: top;\n",
       "    }\n",
       "\n",
       "    .dataframe thead th {\n",
       "        text-align: right;\n",
       "    }\n",
       "</style>\n",
       "<table border=\"1\" class=\"dataframe\">\n",
       "  <thead>\n",
       "    <tr style=\"text-align: right;\">\n",
       "      <th></th>\n",
       "      <th>dt1</th>\n",
       "      <th>GDP</th>\n",
       "      <th>GDPC1</th>\n",
       "      <th>EXPGS</th>\n",
       "      <th>PNFI</th>\n",
       "      <th>INDPRO</th>\n",
       "      <th>CFNAI</th>\n",
       "      <th>TOTBKCR</th>\n",
       "      <th>DPSACBW027SBOG</th>\n",
       "      <th>STLFSI4</th>\n",
       "      <th>NFCI</th>\n",
       "      <th>CPILFESL</th>\n",
       "      <th>CPIAUCSL</th>\n",
       "      <th>PCE</th>\n",
       "      <th>PCEPI</th>\n",
       "      <th>PCEPILFE</th>\n",
       "      <th>MICH</th>\n",
       "      <th>PAYEMS</th>\n",
       "      <th>UNRATE</th>\n",
       "      <th>EMRATIO</th>\n",
       "      <th>WSECOUT</th>\n",
       "    </tr>\n",
       "  </thead>\n",
       "  <tbody>\n",
       "    <tr>\n",
       "      <th>533</th>\n",
       "      <td>2024-07-01</td>\n",
       "      <td>29,016.71</td>\n",
       "      <td>23,223.91</td>\n",
       "      <td>3,154.32</td>\n",
       "      <td>4,018.47</td>\n",
       "      <td>103.28</td>\n",
       "      <td>-0.12</td>\n",
       "      <td>17,724.77</td>\n",
       "      <td>17,601.05</td>\n",
       "      <td>-0.74</td>\n",
       "      <td>-0.51</td>\n",
       "      <td>318.87</td>\n",
       "      <td>313.53</td>\n",
       "      <td>19,747.50</td>\n",
       "      <td>123.37</td>\n",
       "      <td>122.51</td>\n",
       "      <td>3.00</td>\n",
       "      <td>158,692.00</td>\n",
       "      <td>4.30</td>\n",
       "      <td>60.00</td>\n",
       "      <td>6,767.02</td>\n",
       "    </tr>\n",
       "    <tr>\n",
       "      <th>534</th>\n",
       "      <td>2024-08-01</td>\n",
       "      <td>29,016.71</td>\n",
       "      <td>23,223.91</td>\n",
       "      <td>3,154.32</td>\n",
       "      <td>4,018.47</td>\n",
       "      <td>102.54</td>\n",
       "      <td>-0.30</td>\n",
       "      <td>17,795.10</td>\n",
       "      <td>17,652.95</td>\n",
       "      <td>-0.50</td>\n",
       "      <td>-0.49</td>\n",
       "      <td>319.77</td>\n",
       "      <td>314.12</td>\n",
       "      <td>19,859.30</td>\n",
       "      <td>123.56</td>\n",
       "      <td>122.71</td>\n",
       "      <td>2.90</td>\n",
       "      <td>158,770.00</td>\n",
       "      <td>4.20</td>\n",
       "      <td>60.00</td>\n",
       "      <td>6,723.83</td>\n",
       "    </tr>\n",
       "    <tr>\n",
       "      <th>535</th>\n",
       "      <td>2024-09-01</td>\n",
       "      <td>29,016.71</td>\n",
       "      <td>23,223.91</td>\n",
       "      <td>3,154.32</td>\n",
       "      <td>4,018.47</td>\n",
       "      <td>103.04</td>\n",
       "      <td>-0.04</td>\n",
       "      <td>17,836.29</td>\n",
       "      <td>17,744.66</td>\n",
       "      <td>-0.35</td>\n",
       "      <td>-0.52</td>\n",
       "      <td>320.77</td>\n",
       "      <td>314.69</td>\n",
       "      <td>19,898.00</td>\n",
       "      <td>123.71</td>\n",
       "      <td>122.90</td>\n",
       "      <td>2.80</td>\n",
       "      <td>159,025.00</td>\n",
       "      <td>4.10</td>\n",
       "      <td>60.20</td>\n",
       "      <td>6,689.77</td>\n",
       "    </tr>\n",
       "    <tr>\n",
       "      <th>536</th>\n",
       "      <td>2024-10-01</td>\n",
       "      <td>29,354.32</td>\n",
       "      <td>23,386.73</td>\n",
       "      <td>3,204.13</td>\n",
       "      <td>4,084.03</td>\n",
       "      <td>102.55</td>\n",
       "      <td>-0.27</td>\n",
       "      <td>17,922.09</td>\n",
       "      <td>17,825.00</td>\n",
       "      <td>-0.54</td>\n",
       "      <td>-0.52</td>\n",
       "      <td>321.67</td>\n",
       "      <td>315.45</td>\n",
       "      <td>20,027.20</td>\n",
       "      <td>123.93</td>\n",
       "      <td>123.22</td>\n",
       "      <td>2.70</td>\n",
       "      <td>159,061.00</td>\n",
       "      <td>4.10</td>\n",
       "      <td>60.00</td>\n",
       "      <td>6,644.88</td>\n",
       "    </tr>\n",
       "    <tr>\n",
       "      <th>537</th>\n",
       "      <td>2024-11-01</td>\n",
       "      <td>29,354.32</td>\n",
       "      <td>23,386.73</td>\n",
       "      <td>3,204.13</td>\n",
       "      <td>4,084.03</td>\n",
       "      <td>102.28</td>\n",
       "      <td>-0.40</td>\n",
       "      <td>17,925.60</td>\n",
       "      <td>17,842.90</td>\n",
       "      <td>-0.58</td>\n",
       "      <td>-0.58</td>\n",
       "      <td>322.66</td>\n",
       "      <td>316.44</td>\n",
       "      <td>20,099.50</td>\n",
       "      <td>124.23</td>\n",
       "      <td>123.56</td>\n",
       "      <td>2.70</td>\n",
       "      <td>159,288.00</td>\n",
       "      <td>4.20</td>\n",
       "      <td>59.80</td>\n",
       "      <td>6,597.91</td>\n",
       "    </tr>\n",
       "  </tbody>\n",
       "</table>\n",
       "</div>"
      ],
      "text/plain": [
       "           dt1       GDP     GDPC1    EXPGS     PNFI  INDPRO  CFNAI   TOTBKCR  \\\n",
       "533 2024-07-01 29,016.71 23,223.91 3,154.32 4,018.47  103.28  -0.12 17,724.77   \n",
       "534 2024-08-01 29,016.71 23,223.91 3,154.32 4,018.47  102.54  -0.30 17,795.10   \n",
       "535 2024-09-01 29,016.71 23,223.91 3,154.32 4,018.47  103.04  -0.04 17,836.29   \n",
       "536 2024-10-01 29,354.32 23,386.73 3,204.13 4,084.03  102.55  -0.27 17,922.09   \n",
       "537 2024-11-01 29,354.32 23,386.73 3,204.13 4,084.03  102.28  -0.40 17,925.60   \n",
       "\n",
       "     DPSACBW027SBOG  STLFSI4  NFCI  CPILFESL  CPIAUCSL       PCE  PCEPI  \\\n",
       "533       17,601.05    -0.74 -0.51    318.87    313.53 19,747.50 123.37   \n",
       "534       17,652.95    -0.50 -0.49    319.77    314.12 19,859.30 123.56   \n",
       "535       17,744.66    -0.35 -0.52    320.77    314.69 19,898.00 123.71   \n",
       "536       17,825.00    -0.54 -0.52    321.67    315.45 20,027.20 123.93   \n",
       "537       17,842.90    -0.58 -0.58    322.66    316.44 20,099.50 124.23   \n",
       "\n",
       "     PCEPILFE  MICH     PAYEMS  UNRATE  EMRATIO  WSECOUT  \n",
       "533    122.51  3.00 158,692.00    4.30    60.00 6,767.02  \n",
       "534    122.71  2.90 158,770.00    4.20    60.00 6,723.83  \n",
       "535    122.90  2.80 159,025.00    4.10    60.20 6,689.77  \n",
       "536    123.22  2.70 159,061.00    4.10    60.00 6,644.88  \n",
       "537    123.56  2.70 159,288.00    4.20    59.80 6,597.91  "
      ]
     },
     "execution_count": 14,
     "metadata": {},
     "output_type": "execute_result"
    }
   ],
   "source": [
    "# check data\n",
    "print(df.shape)\n",
    "df[-5:]"
   ]
  },
  {
   "cell_type": "code",
   "execution_count": 15,
   "id": "01d9e392-163c-43a1-841f-965d59329c20",
   "metadata": {},
   "outputs": [
    {
     "data": {
      "text/plain": [
       "dt1                 0\n",
       "GDP                 2\n",
       "GDPC1               2\n",
       "EXPGS               2\n",
       "PNFI                2\n",
       "INDPRO              0\n",
       "CFNAI               0\n",
       "TOTBKCR             0\n",
       "DPSACBW027SBOG      0\n",
       "STLFSI4           166\n",
       "NFCI                0\n",
       "CPILFESL            0\n",
       "CPIAUCSL            0\n",
       "PCE                 0\n",
       "PCEPI               0\n",
       "PCEPILFE            0\n",
       "MICH                0\n",
       "PAYEMS              0\n",
       "UNRATE              0\n",
       "EMRATIO             0\n",
       "WSECOUT           109\n",
       "dtype: int64"
      ]
     },
     "execution_count": 15,
     "metadata": {},
     "output_type": "execute_result"
    }
   ],
   "source": [
    "df.isnull().sum()"
   ]
  },
  {
   "cell_type": "code",
   "execution_count": 16,
   "id": "2d146b26-dd0a-43dc-a958-d8ed5d9f7f74",
   "metadata": {},
   "outputs": [
    {
     "data": {
      "text/plain": [
       "dt1                 0\n",
       "GDP                 2\n",
       "GDPC1               2\n",
       "EXPGS               2\n",
       "PNFI                2\n",
       "INDPRO              0\n",
       "CFNAI               0\n",
       "TOTBKCR             0\n",
       "DPSACBW027SBOG      0\n",
       "STLFSI4           166\n",
       "NFCI                0\n",
       "CPILFESL            0\n",
       "CPIAUCSL            0\n",
       "PCE                 0\n",
       "PCEPI               0\n",
       "PCEPILFE            0\n",
       "MICH                0\n",
       "PAYEMS              0\n",
       "UNRATE              0\n",
       "EMRATIO             0\n",
       "WSECOUT           109\n",
       "dtype: int64"
      ]
     },
     "execution_count": 16,
     "metadata": {},
     "output_type": "execute_result"
    }
   ],
   "source": [
    "for f in df.columns:\n",
    "    df[f] = df[f].ffill()\n",
    "\n",
    "df.to_pickle('data/df_feats.pkl')\n",
    "\n",
    "df.isnull().sum()"
   ]
  },
  {
   "cell_type": "code",
   "execution_count": 28,
   "id": "77a41730-3aca-421e-999b-a43bc779a651",
   "metadata": {},
   "outputs": [
    {
     "data": {
      "image/png": "[encoded data removed]",
      "text/plain": [
       "<Figure size 700x400 with 1 Axes>"
      ]
     },
     "metadata": {},
     "output_type": "display_data"
    }
   ],
   "source": [
    "_ = df.set_index('dt1').isnull().astype(int).plot(figsize = (7,4))\n",
    "_ = _.legend(bbox_to_anchor=(1., 1.02))"
   ]
  },
  {
   "cell_type": "code",
   "execution_count": 32,
   "id": "95ddf307-7252-447f-89e3-409539376a0b",
   "metadata": {},
   "outputs": [
    {
     "data": {
      "text/plain": [
       "dt1               0\n",
       "GDP               0\n",
       "GDPC1             0\n",
       "EXPGS             0\n",
       "PNFI              0\n",
       "INDPRO            0\n",
       "CFNAI             0\n",
       "TOTBKCR           0\n",
       "DPSACBW027SBOG    0\n",
       "STLFSI4           0\n",
       "NFCI              0\n",
       "CPILFESL          0\n",
       "CPIAUCSL          0\n",
       "PCE               0\n",
       "PCEPI             0\n",
       "PCEPILFE          0\n",
       "MICH              0\n",
       "PAYEMS            0\n",
       "UNRATE            0\n",
       "EMRATIO           0\n",
       "WSECOUT           0\n",
       "dtype: int64"
      ]
     },
     "execution_count": 32,
     "metadata": {},
     "output_type": "execute_result"
    }
   ],
   "source": [
    "MIN_DATE = '1994-12-01'\n",
    "df[df.dt1 > MIN_DATE].isnull().sum()"
   ]
  }
 ],
 "metadata": {
  "kernelspec": {
   "display_name": "Python 3 (ipykernel)",
   "language": "python",
   "name": "python3"
  },
  "language_info": {
   "codemirror_mode": {
    "name": "ipython",
    "version": 3
   },
   "file_extension": ".py",
   "mimetype": "text/x-python",
   "name": "python",
   "nbconvert_exporter": "python",
   "pygments_lexer": "ipython3",
   "version": "3.11.5"
  }
 },
 "nbformat": 4,
 "nbformat_minor": 5
}
